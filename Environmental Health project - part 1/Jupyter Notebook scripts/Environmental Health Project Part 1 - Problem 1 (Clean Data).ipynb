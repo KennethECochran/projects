{
 "cells": [
  {
   "cell_type": "markdown",
   "id": "77f9a942",
   "metadata": {},
   "source": [
    "### Environmental Health Project Part 1 - Problem 1 (Clean Data)\n",
    "#### Author: Kenneth Cochran\n",
    "#### Date written: 3/24/2023"
   ]
  },
  {
   "cell_type": "code",
   "execution_count": 5,
   "id": "a1589f38",
   "metadata": {},
   "outputs": [
    {
     "name": "stderr",
     "output_type": "stream",
     "text": [
      "C:\\Users\\kecoc\\anaconda3\\lib\\site-packages\\openpyxl\\styles\\stylesheet.py:226: UserWarning: Workbook contains no default style, apply openpyxl's default\n",
      "  warn(\"Workbook contains no default style, apply openpyxl's default\")\n"
     ]
    }
   ],
   "source": [
    "import os\n",
    "import pandas as pd\n",
    "\n",
    "result_dir = '~/Environmental Health project - part 1/result'\n",
    "data_dir = '~/Environmental Health project - part 1/data'\n",
    "in_file_name = 'PFAS_J.xlsx'\n",
    "out_file_name = 'Clean PFAS_J.xlsx'\n",
    "\n",
    "in_file_full_name = os.path.join(data_dir, in_file_name)\n",
    "out_file_full_name = os.path.join(result_dir, out_file_name)\n",
    "\n",
    "data_in = pd.read_excel(in_file_full_name)\n",
    "data = data_in.drop(['Unnamed: 0'], axis = 1)\n",
    "data_no_na = data.dropna()\n",
    "data_no_na.to_excel(out_file_full_name)"
   ]
  },
  {
   "cell_type": "code",
   "execution_count": null,
   "id": "0a230aa0",
   "metadata": {},
   "outputs": [],
   "source": []
  }
 ],
 "metadata": {
  "kernelspec": {
   "display_name": "Python 3 (ipykernel)",
   "language": "python",
   "name": "python3"
  },
  "language_info": {
   "codemirror_mode": {
    "name": "ipython",
    "version": 3
   },
   "file_extension": ".py",
   "mimetype": "text/x-python",
   "name": "python",
   "nbconvert_exporter": "python",
   "pygments_lexer": "ipython3",
   "version": "3.9.13"
  }
 },
 "nbformat": 4,
 "nbformat_minor": 5
}
